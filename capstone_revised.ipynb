{
  "nbformat": 4,
  "nbformat_minor": 0,
  "metadata": {
    "colab": {
      "name": "capstone_revised.ipynb",
      "provenance": [],
      "authorship_tag": "ABX9TyPDhs/qX/wQwR1WC2k3LSiA",
      "include_colab_link": true
    },
    "kernelspec": {
      "name": "python3",
      "display_name": "Python 3"
    },
    "language_info": {
      "name": "python"
    }
  },
  "cells": [
    {
      "cell_type": "markdown",
      "metadata": {
        "id": "view-in-github",
        "colab_type": "text"
      },
      "source": [
        "<a href=\"https://colab.research.google.com/github/christianloring/Projects/blob/main/capstone_revised.ipynb\" target=\"_parent\"><img src=\"https://colab.research.google.com/assets/colab-badge.svg\" alt=\"Open In Colab\"/></a>"
      ]
    },
    {
      "cell_type": "markdown",
      "metadata": {
        "id": "icVXTf4QPHqh"
      },
      "source": [
        "The data set I am going to be using is an IBM data set gathered from their employees. The data set and types of information gathered can be viewed either below or at the following: \n",
        "\n",
        "https://www.kaggle.com/pavansubhasht/ibm-hr-analytics-attrition-dataset\n",
        "\n"
      ]
    },
    {
      "cell_type": "markdown",
      "metadata": {
        "id": "ZvWKj-R2OZpf"
      },
      "source": [
        "Overview of what we want to do:\n",
        "talk about the importance of employee retention, show entire data, create hypothesis and why, get the data we are interested in, perform tests, analyze results,  recommendations and future investigations. "
      ]
    },
    {
      "cell_type": "code",
      "metadata": {
        "colab": {
          "base_uri": "https://localhost:8080/"
        },
        "id": "LGioqibyOVzR",
        "outputId": "9f9a4853-5a10-4e75-d5b5-4ca7b01eff77"
      },
      "source": [
        "%matplotlib inline\n",
        "import numpy as np\n",
        "import pandas as pd\n",
        "import matplotlib.pyplot as plt\n",
        "import scipy.stats as stats\n",
        "from google.colab import drive \n",
        "drive.mount('/content/gdrive')"
      ],
      "execution_count": null,
      "outputs": [
        {
          "output_type": "stream",
          "name": "stdout",
          "text": [
            "Drive already mounted at /content/gdrive; to attempt to forcibly remount, call drive.mount(\"/content/gdrive\", force_remount=True).\n"
          ]
        }
      ]
    },
    {
      "cell_type": "markdown",
      "metadata": {
        "id": "fPhu5XPgOdkb"
      },
      "source": [
        "Gather the data and see its columns"
      ]
    },
    {
      "cell_type": "code",
      "metadata": {
        "colab": {
          "base_uri": "https://localhost:8080/"
        },
        "id": "sJKpeiyuOeKj",
        "outputId": "ccea0239-7384-4870-922a-566e15f22b4e"
      },
      "source": [
        "employee_data = pd.read_csv('gdrive/My Drive/WA_Fn-UseC_-HR-Employee-Attrition.csv')\n",
        "employee_data.info"
      ],
      "execution_count": null,
      "outputs": [
        {
          "output_type": "execute_result",
          "data": {
            "text/plain": [
              "<bound method DataFrame.info of       Age Attrition  ... YearsSinceLastPromotion  YearsWithCurrManager\n",
              "0      41       Yes  ...                       0                     5\n",
              "1      49        No  ...                       1                     7\n",
              "2      37       Yes  ...                       0                     0\n",
              "3      33        No  ...                       3                     0\n",
              "4      27        No  ...                       2                     2\n",
              "...   ...       ...  ...                     ...                   ...\n",
              "1465   36        No  ...                       0                     3\n",
              "1466   39        No  ...                       1                     7\n",
              "1467   27        No  ...                       0                     3\n",
              "1468   49        No  ...                       0                     8\n",
              "1469   34        No  ...                       1                     2\n",
              "\n",
              "[1470 rows x 35 columns]>"
            ]
          },
          "metadata": {},
          "execution_count": 3
        }
      ]
    },
    {
      "cell_type": "markdown",
      "metadata": {
        "id": "ILmcVX6WOk2k"
      },
      "source": [
        "I prefer to view the columns as a list in general, but also we cannot see all of the columns above. We see that our data set is quite large, at 1470 employees."
      ]
    },
    {
      "cell_type": "code",
      "metadata": {
        "colab": {
          "base_uri": "https://localhost:8080/"
        },
        "id": "U8HSfavcOnFC",
        "outputId": "69f6e8b7-05b6-4ad2-977c-84b1fa90c868"
      },
      "source": [
        "employee_data.columns"
      ],
      "execution_count": null,
      "outputs": [
        {
          "output_type": "execute_result",
          "data": {
            "text/plain": [
              "Index(['Age', 'Attrition', 'BusinessTravel', 'DailyRate', 'Department',\n",
              "       'DistanceFromHome', 'Education', 'EducationField', 'EmployeeCount',\n",
              "       'EmployeeNumber', 'EnvironmentSatisfaction', 'Gender', 'HourlyRate',\n",
              "       'JobInvolvement', 'JobLevel', 'JobRole', 'JobSatisfaction',\n",
              "       'MaritalStatus', 'MonthlyIncome', 'MonthlyRate', 'NumCompaniesWorked',\n",
              "       'Over18', 'OverTime', 'PercentSalaryHike', 'PerformanceRating',\n",
              "       'RelationshipSatisfaction', 'StandardHours', 'StockOptionLevel',\n",
              "       'TotalWorkingYears', 'TrainingTimesLastYear', 'WorkLifeBalance',\n",
              "       'YearsAtCompany', 'YearsInCurrentRole', 'YearsSinceLastPromotion',\n",
              "       'YearsWithCurrManager'],\n",
              "      dtype='object')"
            ]
          },
          "metadata": {},
          "execution_count": 5
        }
      ]
    },
    {
      "cell_type": "markdown",
      "metadata": {
        "id": "TOFMhNlCPpny"
      },
      "source": [
        "I am going to investigate if there is a difference between males and females in terms of job satisfaction. This is because there are studies having shown that women are promoted slower and are often overqualified for jobs they apply for, so I want to see if there is a difference in how happy the genders are. Although the cause may be different, finding out that something is dissatisfying up to 50% of the population would have a large impact on employee retention, saving IBM money in the long term for hiring costs, as well as making their company more appealing due to having a large number of people be more satisfied with their jobs."
      ]
    },
    {
      "cell_type": "code",
      "metadata": {
        "colab": {
          "base_uri": "https://localhost:8080/",
          "height": 282
        },
        "id": "9ueNZVJ4OtrQ",
        "outputId": "621c83bb-a9d5-4e81-a0c6-365164ccdc0f"
      },
      "source": [
        "plt.hist(employee_data['JobSatisfaction'], alpha = 0.5)\n",
        "print(stats.describe(employee_data['JobSatisfaction']))"
      ],
      "execution_count": null,
      "outputs": [
        {
          "output_type": "stream",
          "name": "stdout",
          "text": [
            "DescribeResult(nobs=1470, minmax=(1, 4), mean=2.7285714285714286, variance=1.2162695711368277, skewness=-0.3293354633089524, kurtosis=-1.2221182660739298)\n"
          ]
        },
        {
          "output_type": "display_data",
          "data": {
            "image/png": "[encoded data removed]",
            "text/plain": [
              "<Figure size 432x288 with 1 Axes>"
            ]
          },
          "metadata": {
            "needs_background": "light"
          }
        }
      ]
    },
    {
      "cell_type": "markdown",
      "metadata": {
        "id": "rVkTg3fFRVG6"
      },
      "source": [
        "We can see the data has only 4 columns and is not continuous, hence we will use a non-parametric test. Although the skewness and kurtosis is fine, we do not have continuity. \n",
        "\n",
        "Our null hypothesis will be that there is no difference in job satisfaction between males and females.\n",
        "\n",
        "Our alternative hypothesis is that there is a difference in job satisfaction between males and females.\n",
        "\n",
        "Our alpha will be 0.10"
      ]
    },
    {
      "cell_type": "markdown",
      "metadata": {
        "id": "Z3uag5BDRxOl"
      },
      "source": [
        "First we split the data into the 2 categories we are interested in."
      ]
    },
    {
      "cell_type": "code",
      "metadata": {
        "colab": {
          "base_uri": "https://localhost:8080/"
        },
        "id": "C6U5OcwXRUYF",
        "outputId": "ff288479-67d2-409d-8a59-3d96e8c2ab23"
      },
      "source": [
        "girls = employee_data[employee_data['Gender'] == 'Male']\n",
        "boys = employee_data[employee_data['Gender'] == 'Female']\n",
        "girls.info\n"
      ],
      "execution_count": null,
      "outputs": [
        {
          "output_type": "execute_result",
          "data": {
            "text/plain": [
              "<bound method DataFrame.info of       Age Attrition  ... YearsSinceLastPromotion  YearsWithCurrManager\n",
              "1      49        No  ...                       1                     7\n",
              "2      37       Yes  ...                       0                     0\n",
              "4      27        No  ...                       2                     2\n",
              "5      32        No  ...                       3                     6\n",
              "7      30        No  ...                       0                     0\n",
              "...   ...       ...  ...                     ...                   ...\n",
              "1465   36        No  ...                       0                     3\n",
              "1466   39        No  ...                       1                     7\n",
              "1467   27        No  ...                       0                     3\n",
              "1468   49        No  ...                       0                     8\n",
              "1469   34        No  ...                       1                     2\n",
              "\n",
              "[882 rows x 35 columns]>"
            ]
          },
          "metadata": {},
          "execution_count": 15
        }
      ]
    },
    {
      "cell_type": "markdown",
      "metadata": {
        "id": "koOpkvYtS-8U"
      },
      "source": [
        "View the newly split data of boys/girls relative to what we are interested in, job satisfaction."
      ]
    },
    {
      "cell_type": "code",
      "metadata": {
        "colab": {
          "base_uri": "https://localhost:8080/",
          "height": 319
        },
        "id": "l9F3I_iMS4pW",
        "outputId": "f57e515d-4b0d-48c6-f312-9df4667e4667"
      },
      "source": [
        "plt.hist(girls['JobSatisfaction'], alpha = 0.5)\n",
        "plt.hist(boys['JobSatisfaction'], alpha = 0.5)"
      ],
      "execution_count": null,
      "outputs": [
        {
          "output_type": "execute_result",
          "data": {
            "text/plain": [
              "(array([119.,   0.,   0., 118.,   0.,   0., 181.,   0.,   0., 170.]),\n",
              " array([1. , 1.3, 1.6, 1.9, 2.2, 2.5, 2.8, 3.1, 3.4, 3.7, 4. ]),\n",
              " <a list of 10 Patch objects>)"
            ]
          },
          "metadata": {},
          "execution_count": 9
        },
        {
          "output_type": "display_data",
          "data": {
            "image/png": "[encoded data removed]",
            "text/plain": [
              "<Figure size 432x288 with 1 Axes>"
            ]
          },
          "metadata": {
            "needs_background": "light"
          }
        }
      ]
    },
    {
      "cell_type": "markdown",
      "metadata": {
        "id": "DAq8zpRATIzY"
      },
      "source": [
        "Visually it seems like there may be a difference. 3 > 4 > 1 = 2, girls are 4 > 3 > 1 > 2, but let's see what the test says. We will use a Mann-Whitney U Test as our nonparametric test"
      ]
    },
    {
      "cell_type": "code",
      "metadata": {
        "colab": {
          "base_uri": "https://localhost:8080/"
        },
        "id": "ZKxbV790TBXt",
        "outputId": "6a2de552-d3e6-4569-e0b3-2822614272d3"
      },
      "source": [
        "stats.mannwhitneyu(girls['JobSatisfaction'], boys['JobSatisfaction'])"
      ],
      "execution_count": null,
      "outputs": [
        {
          "output_type": "execute_result",
          "data": {
            "text/plain": [
              "MannwhitneyuResult(statistic=248820.5, pvalue=0.0860584779427192)"
            ]
          },
          "metadata": {},
          "execution_count": 12
        }
      ]
    },
    {
      "cell_type": "markdown",
      "metadata": {
        "id": "uabyzj2NVDRA"
      },
      "source": [
        "p = 0.086 < 0.10 = alpha, so we reject the null. That is, we can say there is a difference in job satisfaction between men and women at IBM with 90% confidence. This is worth investigating because from our data set, 62% of employees are women, so investigating what the cause of this difference in satisfaction is will help with employee retention, therefore saving money in training costs, having higher productivity because of having employees who are more experienced, and being more appealing as a company because your employees speak more highly of them."
      ]
    },
    {
      "cell_type": "code",
      "metadata": {
        "id": "B_Oe4WLPVAJ_"
      },
      "source": [
        ""
      ],
      "execution_count": null,
      "outputs": []
    }
  ]
}