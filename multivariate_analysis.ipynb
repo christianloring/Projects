{
  "nbformat": 4,
  "nbformat_minor": 0,
  "metadata": {
    "colab": {
      "name": "multivariate_analysis.ipynb",
      "provenance": [],
      "authorship_tag": "ABX9TyNal1FgxcwxrlKCS2bPG2Zn",
      "include_colab_link": true
    },
    "kernelspec": {
      "name": "python3",
      "display_name": "Python 3"
    },
    "language_info": {
      "name": "python"
    }
  },
  "cells": [
    {
      "cell_type": "markdown",
      "metadata": {
        "id": "view-in-github",
        "colab_type": "text"
      },
      "source": [
        "<a href=\"https://colab.research.google.com/github/christianloring/Projects/blob/main/multivariate_analysis.ipynb\" target=\"_parent\"><img src=\"https://colab.research.google.com/assets/colab-badge.svg\" alt=\"Open In Colab\"/></a>"
      ]
    },
    {
      "cell_type": "code",
      "metadata": {
        "id": "U7ab--0xDegS"
      },
      "source": [
        "import matplotlib.pyplot as plt\n",
        "import seaborn as sns\n",
        "import numpy as np\n",
        "import pandas as pd\n",
        "import seaborn as sns\n",
        "import scipy.stats as stats\n",
        "from scipy.stats.mstats import winsorize\n",
        "from sqlalchemy import create_engine\n",
        "import warnings\n",
        "from scipy.stats.stats import ttest_ind\n",
        "\n",
        "warnings.filterwarnings('ignore')\n",
        "sns.set(style=\"whitegrid\")\n",
        "\n",
        "postgres_user = 'dsbc_student'\n",
        "postgres_pw = '7*.8G9QH21'\n",
        "postgres_host = '142.93.121.174'\n",
        "postgres_port = '5432'\n",
        "postgres_db = 'studentsperformance'\n",
        "\n",
        "engine = create_engine('postgresql://{}:{}@{}:{}/{}'.format(\n",
        "    postgres_user, postgres_pw, postgres_host, postgres_port, postgres_db))\n",
        "\n",
        "students = pd.read_sql_query('select * from studentsperformance',con=engine)\n",
        "\n",
        "engine.dispose()"
      ],
      "execution_count": null,
      "outputs": []
    },
    {
      "cell_type": "code",
      "metadata": {
        "colab": {
          "base_uri": "https://localhost:8080/"
        },
        "id": "Oe-yWYL7Epyj",
        "outputId": "35442073-7e4c-4332-c44f-578ab8e4865f"
      },
      "source": [
        "students.info()"
      ],
      "execution_count": null,
      "outputs": [
        {
          "output_type": "stream",
          "name": "stdout",
          "text": [
            "<class 'pandas.core.frame.DataFrame'>\n",
            "RangeIndex: 1000 entries, 0 to 999\n",
            "Data columns (total 8 columns):\n",
            " #   Column                       Non-Null Count  Dtype \n",
            "---  ------                       --------------  ----- \n",
            " 0   gender                       1000 non-null   object\n",
            " 1   race/ethnicity               1000 non-null   object\n",
            " 2   parental level of education  1000 non-null   object\n",
            " 3   lunch                        1000 non-null   object\n",
            " 4   test preparation course      1000 non-null   object\n",
            " 5   math score                   1000 non-null   int64 \n",
            " 6   reading score                1000 non-null   int64 \n",
            " 7   writing score                1000 non-null   int64 \n",
            "dtypes: int64(3), object(5)\n",
            "memory usage: 62.6+ KB\n"
          ]
        }
      ]
    },
    {
      "cell_type": "markdown",
      "metadata": {
        "id": "zBUTbZQwEvh2"
      },
      "source": [
        "All columns filled, don't need to fill any data. Check if data is categorical or numerical."
      ]
    },
    {
      "cell_type": "code",
      "metadata": {
        "colab": {
          "base_uri": "https://localhost:8080/",
          "height": 221
        },
        "id": "-toMHv_cErwE",
        "outputId": "d6561d9e-cb58-4617-e678-37cc7c9a5b44"
      },
      "source": [
        "students.head()"
      ],
      "execution_count": null,
      "outputs": [
        {
          "output_type": "execute_result",
          "data": {
            "text/html": [
              "<div>\n",
              "<style scoped>\n",
              "    .dataframe tbody tr th:only-of-type {\n",
              "        vertical-align: middle;\n",
              "    }\n",
              "\n",
              "    .dataframe tbody tr th {\n",
              "        vertical-align: top;\n",
              "    }\n",
              "\n",
              "    .dataframe thead th {\n",
              "        text-align: right;\n",
              "    }\n",
              "</style>\n",
              "<table border=\"1\" class=\"dataframe\">\n",
              "  <thead>\n",
              "    <tr style=\"text-align: right;\">\n",
              "      <th></th>\n",
              "      <th>gender</th>\n",
              "      <th>race/ethnicity</th>\n",
              "      <th>parental level of education</th>\n",
              "      <th>lunch</th>\n",
              "      <th>test preparation course</th>\n",
              "      <th>math score</th>\n",
              "      <th>reading score</th>\n",
              "      <th>writing score</th>\n",
              "    </tr>\n",
              "  </thead>\n",
              "  <tbody>\n",
              "    <tr>\n",
              "      <th>0</th>\n",
              "      <td>female</td>\n",
              "      <td>group B</td>\n",
              "      <td>bachelor's degree</td>\n",
              "      <td>standard</td>\n",
              "      <td>none</td>\n",
              "      <td>72</td>\n",
              "      <td>72</td>\n",
              "      <td>74</td>\n",
              "    </tr>\n",
              "    <tr>\n",
              "      <th>1</th>\n",
              "      <td>female</td>\n",
              "      <td>group C</td>\n",
              "      <td>some college</td>\n",
              "      <td>standard</td>\n",
              "      <td>completed</td>\n",
              "      <td>69</td>\n",
              "      <td>90</td>\n",
              "      <td>88</td>\n",
              "    </tr>\n",
              "    <tr>\n",
              "      <th>2</th>\n",
              "      <td>female</td>\n",
              "      <td>group B</td>\n",
              "      <td>master's degree</td>\n",
              "      <td>standard</td>\n",
              "      <td>none</td>\n",
              "      <td>90</td>\n",
              "      <td>95</td>\n",
              "      <td>93</td>\n",
              "    </tr>\n",
              "    <tr>\n",
              "      <th>3</th>\n",
              "      <td>male</td>\n",
              "      <td>group A</td>\n",
              "      <td>associate's degree</td>\n",
              "      <td>free/reduced</td>\n",
              "      <td>none</td>\n",
              "      <td>47</td>\n",
              "      <td>57</td>\n",
              "      <td>44</td>\n",
              "    </tr>\n",
              "    <tr>\n",
              "      <th>4</th>\n",
              "      <td>male</td>\n",
              "      <td>group C</td>\n",
              "      <td>some college</td>\n",
              "      <td>standard</td>\n",
              "      <td>none</td>\n",
              "      <td>76</td>\n",
              "      <td>78</td>\n",
              "      <td>75</td>\n",
              "    </tr>\n",
              "  </tbody>\n",
              "</table>\n",
              "</div>"
            ],
            "text/plain": [
              "   gender race/ethnicity  ... reading score writing score\n",
              "0  female        group B  ...            72            74\n",
              "1  female        group C  ...            90            88\n",
              "2  female        group B  ...            95            93\n",
              "3    male        group A  ...            57            44\n",
              "4    male        group C  ...            78            75\n",
              "\n",
              "[5 rows x 8 columns]"
            ]
          },
          "metadata": {},
          "execution_count": 3
        }
      ]
    },
    {
      "cell_type": "markdown",
      "metadata": {
        "id": "NuIRrEMTE8Wu"
      },
      "source": [
        "Are there any differences between the genders, ethnicities, and parental level of education with respect to student performances in exams?\n",
        "\n",
        "Categorical: Gender, race, parental education, lunch, test prep\n",
        "\n",
        "Numerical: Math/reading/writing scores"
      ]
    },
    {
      "cell_type": "code",
      "metadata": {
        "colab": {
          "base_uri": "https://localhost:8080/"
        },
        "id": "lkbVaHZPJQbF",
        "outputId": "d2f560f8-60c9-46ac-d7a5-bf4789ffdf96"
      },
      "source": [
        "students.columns"
      ],
      "execution_count": null,
      "outputs": [
        {
          "output_type": "execute_result",
          "data": {
            "text/plain": [
              "Index(['gender', 'race/ethnicity', 'parental level of education', 'lunch',\n",
              "       'test preparation course', 'math score', 'reading score',\n",
              "       'writing score'],\n",
              "      dtype='object')"
            ]
          },
          "metadata": {},
          "execution_count": 4
        }
      ]
    },
    {
      "cell_type": "code",
      "metadata": {
        "id": "xwAg8jH6E5f6"
      },
      "source": [
        "gen_score_table = students.groupby(\"gender\").mean()[[\"math score\", \"reading score\", \"writing score\"]]"
      ],
      "execution_count": null,
      "outputs": []
    },
    {
      "cell_type": "code",
      "metadata": {
        "colab": {
          "base_uri": "https://localhost:8080/",
          "height": 142
        },
        "id": "X17v5MWhJPDc",
        "outputId": "2ee6c75c-b897-44e8-8ef7-98e8fb289472"
      },
      "source": [
        "gen_score_table"
      ],
      "execution_count": null,
      "outputs": [
        {
          "output_type": "execute_result",
          "data": {
            "text/html": [
              "<div>\n",
              "<style scoped>\n",
              "    .dataframe tbody tr th:only-of-type {\n",
              "        vertical-align: middle;\n",
              "    }\n",
              "\n",
              "    .dataframe tbody tr th {\n",
              "        vertical-align: top;\n",
              "    }\n",
              "\n",
              "    .dataframe thead th {\n",
              "        text-align: right;\n",
              "    }\n",
              "</style>\n",
              "<table border=\"1\" class=\"dataframe\">\n",
              "  <thead>\n",
              "    <tr style=\"text-align: right;\">\n",
              "      <th></th>\n",
              "      <th>math score</th>\n",
              "      <th>reading score</th>\n",
              "      <th>writing score</th>\n",
              "    </tr>\n",
              "    <tr>\n",
              "      <th>gender</th>\n",
              "      <th></th>\n",
              "      <th></th>\n",
              "      <th></th>\n",
              "    </tr>\n",
              "  </thead>\n",
              "  <tbody>\n",
              "    <tr>\n",
              "      <th>female</th>\n",
              "      <td>63.633205</td>\n",
              "      <td>72.608108</td>\n",
              "      <td>72.467181</td>\n",
              "    </tr>\n",
              "    <tr>\n",
              "      <th>male</th>\n",
              "      <td>68.728216</td>\n",
              "      <td>65.473029</td>\n",
              "      <td>63.311203</td>\n",
              "    </tr>\n",
              "  </tbody>\n",
              "</table>\n",
              "</div>"
            ],
            "text/plain": [
              "        math score  reading score  writing score\n",
              "gender                                          \n",
              "female   63.633205      72.608108      72.467181\n",
              "male     68.728216      65.473029      63.311203"
            ]
          },
          "metadata": {},
          "execution_count": 6
        }
      ]
    },
    {
      "cell_type": "markdown",
      "metadata": {
        "id": "YlqdJTFKLIHe"
      },
      "source": [
        "girls higher reading/writing, boys higher math. is it due to random chance? "
      ]
    },
    {
      "cell_type": "code",
      "metadata": {
        "colab": {
          "base_uri": "https://localhost:8080/"
        },
        "id": "cOUnzo3NJ-3i",
        "outputId": "26f23ae7-ed73-4e25-b8cc-2bcc5e40ce90"
      },
      "source": [
        "ttest_ind(students[students.gender == \"female\"][\"math score\"],\n",
        "          students[students.gender == \"male\"][\"math score\"])"
      ],
      "execution_count": null,
      "outputs": [
        {
          "output_type": "execute_result",
          "data": {
            "text/plain": [
              "Ttest_indResult(statistic=-5.383245869828983, pvalue=9.120185549328822e-08)"
            ]
          },
          "metadata": {},
          "execution_count": 7
        }
      ]
    },
    {
      "cell_type": "code",
      "metadata": {
        "colab": {
          "base_uri": "https://localhost:8080/"
        },
        "id": "WHysiowdLsfK",
        "outputId": "70cb673c-5556-4235-a695-9d643f73d697"
      },
      "source": [
        "ttest_ind(students[students.gender == \"female\"][\"writing score\"],\n",
        "          students[students.gender == \"male\"][\"writing score\"])"
      ],
      "execution_count": null,
      "outputs": [
        {
          "output_type": "execute_result",
          "data": {
            "text/plain": [
              "Ttest_indResult(statistic=9.979557910004507, pvalue=2.019877706867934e-22)"
            ]
          },
          "metadata": {},
          "execution_count": 8
        }
      ]
    },
    {
      "cell_type": "code",
      "metadata": {
        "colab": {
          "base_uri": "https://localhost:8080/"
        },
        "id": "G7vmyS_rMSMN",
        "outputId": "29957b1b-b0e5-4a37-f95a-28536f61d9b4"
      },
      "source": [
        "ttest_ind(students[students.gender == \"female\"][\"reading score\"],\n",
        "          students[students.gender == \"male\"][\"reading score\"])"
      ],
      "execution_count": null,
      "outputs": [
        {
          "output_type": "execute_result",
          "data": {
            "text/plain": [
              "Ttest_indResult(statistic=7.959308005187657, pvalue=4.680538743933289e-15)"
            ]
          },
          "metadata": {},
          "execution_count": 9
        }
      ]
    },
    {
      "cell_type": "markdown",
      "metadata": {
        "id": "48ybh8LxMUv2"
      },
      "source": [
        "all p values significantly less than 0.05, so we can say the difference is significant"
      ]
    },
    {
      "cell_type": "code",
      "metadata": {
        "id": "3kMJnKB7MTZV"
      },
      "source": [
        "eth_score_table = students.groupby(\"race/ethnicity\").mean()[[\"math score\", \"reading score\", \"writing score\"]]\n",
        "par_score_table = students.groupby(\"parental level of education\").mean()[[\"math score\", \"reading score\", \"writing score\"]]"
      ],
      "execution_count": null,
      "outputs": []
    },
    {
      "cell_type": "code",
      "metadata": {
        "id": "kueBa4j7Tv0H"
      },
      "source": [
        "eth = students[\"race/ethnicity\"].unique"
      ],
      "execution_count": null,
      "outputs": []
    },
    {
      "cell_type": "code",
      "metadata": {
        "colab": {
          "base_uri": "https://localhost:8080/"
        },
        "id": "CsdlO0eyUUPH",
        "outputId": "3b9c133b-72be-4d2e-eaa7-9d46945a7420"
      },
      "source": [
        "eth"
      ],
      "execution_count": null,
      "outputs": [
        {
          "output_type": "execute_result",
          "data": {
            "text/plain": [
              "<bound method Series.unique of 0      group B\n",
              "1      group C\n",
              "2      group B\n",
              "3      group A\n",
              "4      group C\n",
              "        ...   \n",
              "995    group E\n",
              "996    group C\n",
              "997    group C\n",
              "998    group D\n",
              "999    group D\n",
              "Name: race/ethnicity, Length: 1000, dtype: object>"
            ]
          },
          "metadata": {},
          "execution_count": 18
        }
      ]
    },
    {
      "cell_type": "code",
      "metadata": {
        "id": "bV2v8w1CNSGR"
      },
      "source": [
        "eth = students[\"race/ethnicity\"].unique()\n",
        "for subject in [\"math score\", \"writing score\", \"reading score\"]:\n",
        "    print(\"\\n\\n{}\".format(subject))\n",
        "    for i in range(0, len(eth)):\n",
        "        for j in range(i, len(eth)):\n",
        "            print(\n",
        "                \"t-test between groups {0} and {1}:\".format(eth[i], eth[j]))\n",
        "            print(ttest_ind(\n",
        "                students[students[\"race/ethnicity\"] == eth[i]][subject],\n",
        "                students[students[\"race/ethnicity\"] == eth[j]][subject]\n",
        "            ))"
      ],
      "execution_count": null,
      "outputs": []
    },
    {
      "cell_type": "markdown",
      "metadata": {
        "id": "Pch6k0_kVHA0"
      },
      "source": [
        "READING: CD, BA, BC\n",
        "\n",
        "WRITING: DE, BA, BC\n",
        "\n",
        "MATH: BC, BA, CA\n",
        "\n",
        "all of these have significant differences according to p values."
      ]
    },
    {
      "cell_type": "code",
      "metadata": {
        "colab": {
          "base_uri": "https://localhost:8080/",
          "height": 266
        },
        "id": "cpWbrH5DV8w2",
        "outputId": "2a34c8c1-a244-4d07-863a-743e2ce38f9b"
      },
      "source": [
        "students.groupby(\"parental level of education\").mean()[[\"math score\", \"reading score\", \"writing score\"]]"
      ],
      "execution_count": null,
      "outputs": [
        {
          "output_type": "execute_result",
          "data": {
            "text/html": [
              "<div>\n",
              "<style scoped>\n",
              "    .dataframe tbody tr th:only-of-type {\n",
              "        vertical-align: middle;\n",
              "    }\n",
              "\n",
              "    .dataframe tbody tr th {\n",
              "        vertical-align: top;\n",
              "    }\n",
              "\n",
              "    .dataframe thead th {\n",
              "        text-align: right;\n",
              "    }\n",
              "</style>\n",
              "<table border=\"1\" class=\"dataframe\">\n",
              "  <thead>\n",
              "    <tr style=\"text-align: right;\">\n",
              "      <th></th>\n",
              "      <th>math score</th>\n",
              "      <th>reading score</th>\n",
              "      <th>writing score</th>\n",
              "    </tr>\n",
              "    <tr>\n",
              "      <th>parental level of education</th>\n",
              "      <th></th>\n",
              "      <th></th>\n",
              "      <th></th>\n",
              "    </tr>\n",
              "  </thead>\n",
              "  <tbody>\n",
              "    <tr>\n",
              "      <th>associate's degree</th>\n",
              "      <td>67.882883</td>\n",
              "      <td>70.927928</td>\n",
              "      <td>69.896396</td>\n",
              "    </tr>\n",
              "    <tr>\n",
              "      <th>bachelor's degree</th>\n",
              "      <td>69.389831</td>\n",
              "      <td>73.000000</td>\n",
              "      <td>73.381356</td>\n",
              "    </tr>\n",
              "    <tr>\n",
              "      <th>high school</th>\n",
              "      <td>62.137755</td>\n",
              "      <td>64.704082</td>\n",
              "      <td>62.448980</td>\n",
              "    </tr>\n",
              "    <tr>\n",
              "      <th>master's degree</th>\n",
              "      <td>69.745763</td>\n",
              "      <td>75.372881</td>\n",
              "      <td>75.677966</td>\n",
              "    </tr>\n",
              "    <tr>\n",
              "      <th>some college</th>\n",
              "      <td>67.128319</td>\n",
              "      <td>69.460177</td>\n",
              "      <td>68.840708</td>\n",
              "    </tr>\n",
              "    <tr>\n",
              "      <th>some high school</th>\n",
              "      <td>63.497207</td>\n",
              "      <td>66.938547</td>\n",
              "      <td>64.888268</td>\n",
              "    </tr>\n",
              "  </tbody>\n",
              "</table>\n",
              "</div>"
            ],
            "text/plain": [
              "                             math score  reading score  writing score\n",
              "parental level of education                                          \n",
              "associate's degree            67.882883      70.927928      69.896396\n",
              "bachelor's degree             69.389831      73.000000      73.381356\n",
              "high school                   62.137755      64.704082      62.448980\n",
              "master's degree               69.745763      75.372881      75.677966\n",
              "some college                  67.128319      69.460177      68.840708\n",
              "some high school              63.497207      66.938547      64.888268"
            ]
          },
          "metadata": {},
          "execution_count": 25
        }
      ]
    },
    {
      "cell_type": "code",
      "metadata": {
        "id": "Ij3bb-n5TA1H"
      },
      "source": [
        "education = students[\"parental level of education\"].unique()"
      ],
      "execution_count": null,
      "outputs": []
    },
    {
      "cell_type": "code",
      "metadata": {
        "colab": {
          "base_uri": "https://localhost:8080/"
        },
        "id": "hFDQIiQ7WFPV",
        "outputId": "e7538936-3134-442d-c559-7a98fd7bd1de"
      },
      "source": [
        "for subject in [\"math score\", \"reading score\", \"writing score\"]:\n",
        "  print(\"\\n\\n{}\".format(subject))\n",
        "  for i in range(0, len(education)):\n",
        "      for j in range(i, len(education)):\n",
        "          print(\n",
        "              \"t-test between groups {0} and {1}:\".format(education[i], education[j]))\n",
        "          print(ttest_ind(\n",
        "                students[students[\"parental level of education\"] == education[i]][subject],\n",
        "                students[students[\"parental level of education\"] == education[j]][subject]\n",
        "            ))\n"
      ],
      "execution_count": null,
      "outputs": [
        {
          "output_type": "stream",
          "name": "stdout",
          "text": [
            "\n",
            "\n",
            "math score\n",
            "t-test between groups bachelor's degree and bachelor's degree:\n",
            "Ttest_indResult(statistic=0.0, pvalue=1.0)\n",
            "t-test between groups bachelor's degree and some college:\n",
            "Ttest_indResult(statistic=1.3702352829617477, pvalue=0.17151224218471559)\n",
            "t-test between groups bachelor's degree and master's degree:\n",
            "Ttest_indResult(statistic=-0.14868196568849312, pvalue=0.8819757824867702)\n",
            "t-test between groups bachelor's degree and associate's degree:\n",
            "Ttest_indResult(statistic=0.8786641889793243, pvalue=0.38020757818036177)\n",
            "t-test between groups bachelor's degree and high school:\n",
            "Ttest_indResult(statistic=4.236143622484822, pvalue=2.9965345853843376e-05)\n",
            "t-test between groups bachelor's degree and some high school:\n",
            "Ttest_indResult(statistic=3.196718602676573, pvalue=0.0015409192922812146)\n",
            "t-test between groups some college and some college:\n",
            "Ttest_indResult(statistic=0.0, pvalue=1.0)\n",
            "t-test between groups some college and master's degree:\n",
            "Ttest_indResult(statistic=-1.2356334215824571, pvalue=0.21761956810347416)\n",
            "t-test between groups some college and associate's degree:\n",
            "Ttest_indResult(statistic=-0.5426842696247527, pvalue=0.5876182809234072)\n",
            "t-test between groups some college and high school:\n",
            "Ttest_indResult(statistic=3.5461079495681163, pvalue=0.00043498004192453146)\n",
            "t-test between groups some college and some high school:\n",
            "Ttest_indResult(statistic=2.4117046231407633, pvalue=0.016324361572645503)\n",
            "t-test between groups master's degree and master's degree:\n",
            "Ttest_indResult(statistic=0.0, pvalue=1.0)\n",
            "t-test between groups master's degree and associate's degree:\n",
            "Ttest_indResult(statistic=0.8411229688563471, pvalue=0.4009993636124658)\n",
            "t-test between groups master's degree and high school:\n",
            "Ttest_indResult(statistic=3.4893759321890823, pvalue=0.000570929230228812)\n",
            "t-test between groups master's degree and some high school:\n",
            "Ttest_indResult(statistic=2.6442572081925526, pvalue=0.008736228790471057)\n",
            "t-test between groups associate's degree and associate's degree:\n",
            "Ttest_indResult(statistic=0.0, pvalue=1.0)\n",
            "t-test between groups associate's degree and high school:\n",
            "Ttest_indResult(statistic=3.9481325318265013, pvalue=9.247314274963044e-05)\n",
            "t-test between groups associate's degree and some high school:\n",
            "Ttest_indResult(statistic=2.820053979930256, pvalue=0.005041081492906143)\n",
            "t-test between groups high school and high school:\n",
            "Ttest_indResult(statistic=0.0, pvalue=1.0)\n",
            "t-test between groups high school and some high school:\n",
            "Ttest_indResult(statistic=-0.8640629490772553, pvalue=0.388108610360687)\n",
            "t-test between groups some high school and some high school:\n",
            "Ttest_indResult(statistic=0.0, pvalue=1.0)\n",
            "\n",
            "\n",
            "reading score\n",
            "t-test between groups bachelor's degree and bachelor's degree:\n",
            "Ttest_indResult(statistic=0.0, pvalue=1.0)\n",
            "t-test between groups bachelor's degree and some college:\n",
            "Ttest_indResult(statistic=2.2048821209085077, pvalue=0.028127555314401052)\n",
            "t-test between groups bachelor's degree and master's degree:\n",
            "Ttest_indResult(statistic=-1.0540858949475984, pvalue=0.293296751317879)\n",
            "t-test between groups bachelor's degree and associate's degree:\n",
            "Ttest_indResult(statistic=1.2977969850452833, pvalue=0.19524206483091092)\n",
            "t-test between groups bachelor's degree and high school:\n",
            "Ttest_indResult(statistic=5.017577900835298, pvalue=8.804250310784477e-07)\n",
            "t-test between groups bachelor's degree and some high school:\n",
            "Ttest_indResult(statistic=3.4039270673798745, pvalue=0.0007561971719730451)\n",
            "t-test between groups some college and some college:\n",
            "Ttest_indResult(statistic=0.0, pvalue=1.0)\n",
            "t-test between groups some college and master's degree:\n",
            "Ttest_indResult(statistic=-2.888843374950649, pvalue=0.004165440800640354)\n",
            "t-test between groups some college and associate's degree:\n",
            "Ttest_indResult(statistic=-1.11231882169149, pvalue=0.26660028539980146)\n",
            "t-test between groups some college and high school:\n",
            "Ttest_indResult(statistic=3.4578427683620334, pvalue=0.0006001048481252139)\n",
            "t-test between groups some college and some high school:\n",
            "Ttest_indResult(statistic=1.714161972758909, pvalue=0.08726786856243877)\n",
            "t-test between groups master's degree and master's degree:\n",
            "Ttest_indResult(statistic=0.0, pvalue=1.0)\n",
            "t-test between groups master's degree and associate's degree:\n",
            "Ttest_indResult(statistic=2.1912015759838686, pvalue=0.02926414570972208)\n",
            "t-test between groups master's degree and high school:\n",
            "Ttest_indResult(statistic=5.113158728723477, pvalue=6.257558119816884e-07)\n",
            "t-test between groups master's degree and some high school:\n",
            "Ttest_indResult(statistic=3.7261574122231513, pvalue=0.00024334552617191513)\n",
            "t-test between groups associate's degree and associate's degree:\n",
            "Ttest_indResult(statistic=0.0, pvalue=1.0)\n",
            "t-test between groups associate's degree and high school:\n",
            "Ttest_indResult(statistic=4.538021419898997, pvalue=7.442167797135797e-06)\n",
            "t-test between groups associate's degree and some high school:\n",
            "Ttest_indResult(statistic=2.7183602204037927, pvalue=0.006846770119677965)\n",
            "t-test between groups high school and high school:\n",
            "Ttest_indResult(statistic=0.0, pvalue=1.0)\n",
            "t-test between groups high school and some high school:\n",
            "Ttest_indResult(statistic=-1.461284757591555, pvalue=0.1447791955248275)\n",
            "t-test between groups some high school and some high school:\n",
            "Ttest_indResult(statistic=0.0, pvalue=1.0)\n",
            "\n",
            "\n",
            "writing score\n",
            "t-test between groups bachelor's degree and bachelor's degree:\n",
            "Ttest_indResult(statistic=0.0, pvalue=1.0)\n",
            "t-test between groups bachelor's degree and some college:\n",
            "Ttest_indResult(statistic=2.6803314684632196, pvalue=0.00771101202367254)\n",
            "t-test between groups bachelor's degree and master's degree:\n",
            "Ttest_indResult(statistic=-0.9998741306804844, pvalue=0.3187519641464658)\n",
            "t-test between groups bachelor's degree and associate's degree:\n",
            "Ttest_indResult(statistic=2.1159296639133762, pvalue=0.03508162451719667)\n",
            "t-test between groups bachelor's degree and high school:\n",
            "Ttest_indResult(statistic=6.547380937127048, pvalue=2.4076253789515874e-10)\n",
            "t-test between groups bachelor's degree and some high school:\n",
            "Ttest_indResult(statistic=4.667733097498242, pvalue=4.628198526834338e-06)\n",
            "t-test between groups some college and some college:\n",
            "Ttest_indResult(statistic=0.0, pvalue=1.0)\n",
            "t-test between groups some college and master's degree:\n",
            "Ttest_indResult(statistic=-3.1687690632394907, pvalue=0.0016985933135959495)\n",
            "t-test between groups some college and associate's degree:\n",
            "Ttest_indResult(statistic=-0.7615968643953912, pvalue=0.44670316603036575)\n",
            "t-test between groups some college and high school:\n",
            "Ttest_indResult(statistic=4.488520877492127, pvalue=9.275017802620877e-06)\n",
            "t-test between groups some college and some high school:\n",
            "Ttest_indResult(statistic=2.5757211403792417, pvalue=0.010358529086081357)\n",
            "t-test between groups master's degree and master's degree:\n",
            "Ttest_indResult(statistic=0.0, pvalue=1.0)\n",
            "t-test between groups master's degree and associate's degree:\n",
            "Ttest_indResult(statistic=2.78124154906855, pvalue=0.00578403270525775)\n",
            "t-test between groups master's degree and high school:\n",
            "Ttest_indResult(statistic=6.360904883721531, pvalue=9.326930296880332e-10)\n",
            "t-test between groups master's degree and some high school:\n",
            "Ttest_indResult(statistic=4.707583817143559, pvalue=4.275465153074631e-06)\n",
            "t-test between groups associate's degree and associate's degree:\n",
            "Ttest_indResult(statistic=0.0, pvalue=1.0)\n",
            "t-test between groups associate's degree and high school:\n",
            "Ttest_indResult(statistic=5.348725635626432, pvalue=1.4650545536741998e-07)\n",
            "t-test between groups associate's degree and some high school:\n",
            "Ttest_indResult(statistic=3.3317223453475715, pvalue=0.0009435990258795855)\n",
            "t-test between groups high school and high school:\n",
            "Ttest_indResult(statistic=0.0, pvalue=1.0)\n",
            "t-test between groups high school and some high school:\n",
            "Ttest_indResult(statistic=-1.5838885273076473, pvalue=0.11406653932963291)\n",
            "t-test between groups some high school and some high school:\n",
            "Ttest_indResult(statistic=0.0, pvalue=1.0)\n"
          ]
        }
      ]
    },
    {
      "cell_type": "markdown",
      "metadata": {
        "id": "0gx6Dmh3XN5i"
      },
      "source": [
        "There are many p values > 0.05, indicating that this is a very important factor. "
      ]
    },
    {
      "cell_type": "code",
      "metadata": {
        "colab": {
          "base_uri": "https://localhost:8080/",
          "height": 142
        },
        "id": "r4jVjCFKXSHu",
        "outputId": "dd928806-bfdd-4230-9b35-9e0d16e7ed01"
      },
      "source": [
        "students.groupby(\"lunch\").mean()[[\"math score\", \"reading score\", \"writing score\"]]"
      ],
      "execution_count": null,
      "outputs": [
        {
          "output_type": "execute_result",
          "data": {
            "text/html": [
              "<div>\n",
              "<style scoped>\n",
              "    .dataframe tbody tr th:only-of-type {\n",
              "        vertical-align: middle;\n",
              "    }\n",
              "\n",
              "    .dataframe tbody tr th {\n",
              "        vertical-align: top;\n",
              "    }\n",
              "\n",
              "    .dataframe thead th {\n",
              "        text-align: right;\n",
              "    }\n",
              "</style>\n",
              "<table border=\"1\" class=\"dataframe\">\n",
              "  <thead>\n",
              "    <tr style=\"text-align: right;\">\n",
              "      <th></th>\n",
              "      <th>math score</th>\n",
              "      <th>reading score</th>\n",
              "      <th>writing score</th>\n",
              "    </tr>\n",
              "    <tr>\n",
              "      <th>lunch</th>\n",
              "      <th></th>\n",
              "      <th></th>\n",
              "      <th></th>\n",
              "    </tr>\n",
              "  </thead>\n",
              "  <tbody>\n",
              "    <tr>\n",
              "      <th>free/reduced</th>\n",
              "      <td>58.921127</td>\n",
              "      <td>64.653521</td>\n",
              "      <td>63.022535</td>\n",
              "    </tr>\n",
              "    <tr>\n",
              "      <th>standard</th>\n",
              "      <td>70.034109</td>\n",
              "      <td>71.654264</td>\n",
              "      <td>70.823256</td>\n",
              "    </tr>\n",
              "  </tbody>\n",
              "</table>\n",
              "</div>"
            ],
            "text/plain": [
              "              math score  reading score  writing score\n",
              "lunch                                                 \n",
              "free/reduced   58.921127      64.653521      63.022535\n",
              "standard       70.034109      71.654264      70.823256"
            ]
          },
          "metadata": {},
          "execution_count": 32
        }
      ]
    },
    {
      "cell_type": "markdown",
      "metadata": {
        "id": "wUni6RKCXoYn"
      },
      "source": [
        "visually there seems to be a difference"
      ]
    },
    {
      "cell_type": "code",
      "metadata": {
        "colab": {
          "base_uri": "https://localhost:8080/"
        },
        "id": "SRGHVtPPWti-",
        "outputId": "38ed0587-e794-4f2b-99fe-1f1954e7f6fe"
      },
      "source": [
        "\n",
        "ttest_ind(students[students.lunch == \"free/reduced\"][[\"math score\", \"reading score\", \"writing score\"]],\n",
        "          students[students.lunch == \"standard\"][[\"math score\", \"reading score\", \"writing score\"]])"
      ],
      "execution_count": null,
      "outputs": [
        {
          "output_type": "execute_result",
          "data": {
            "text/plain": [
              "Ttest_indResult(statistic=array([-11.83718047,  -7.45105647,  -8.0097842 ]), pvalue=array([2.41319560e-30, 2.00279665e-13, 3.18618958e-15]))"
            ]
          },
          "metadata": {},
          "execution_count": 33
        }
      ]
    },
    {
      "cell_type": "markdown",
      "metadata": {
        "id": "LSda-jAiXsjW"
      },
      "source": [
        "p value confirms, could be linked to other variables though. For example, people who have higher degrees earn more money and can better educate their kids, so those with better parental education will be less likely to have reduced/free lunches. "
      ]
    },
    {
      "cell_type": "code",
      "metadata": {
        "colab": {
          "base_uri": "https://localhost:8080/",
          "height": 142
        },
        "id": "9gwMgo_mXq8a",
        "outputId": "f745b86a-8dad-4845-8471-7af517a7222a"
      },
      "source": [
        "students.groupby(\"test preparation course\").mean()[[\"math score\", \"reading score\", \"writing score\"]]"
      ],
      "execution_count": null,
      "outputs": [
        {
          "output_type": "execute_result",
          "data": {
            "text/html": [
              "<div>\n",
              "<style scoped>\n",
              "    .dataframe tbody tr th:only-of-type {\n",
              "        vertical-align: middle;\n",
              "    }\n",
              "\n",
              "    .dataframe tbody tr th {\n",
              "        vertical-align: top;\n",
              "    }\n",
              "\n",
              "    .dataframe thead th {\n",
              "        text-align: right;\n",
              "    }\n",
              "</style>\n",
              "<table border=\"1\" class=\"dataframe\">\n",
              "  <thead>\n",
              "    <tr style=\"text-align: right;\">\n",
              "      <th></th>\n",
              "      <th>math score</th>\n",
              "      <th>reading score</th>\n",
              "      <th>writing score</th>\n",
              "    </tr>\n",
              "    <tr>\n",
              "      <th>test preparation course</th>\n",
              "      <th></th>\n",
              "      <th></th>\n",
              "      <th></th>\n",
              "    </tr>\n",
              "  </thead>\n",
              "  <tbody>\n",
              "    <tr>\n",
              "      <th>completed</th>\n",
              "      <td>69.695531</td>\n",
              "      <td>73.893855</td>\n",
              "      <td>74.418994</td>\n",
              "    </tr>\n",
              "    <tr>\n",
              "      <th>none</th>\n",
              "      <td>64.077882</td>\n",
              "      <td>66.534268</td>\n",
              "      <td>64.504673</td>\n",
              "    </tr>\n",
              "  </tbody>\n",
              "</table>\n",
              "</div>"
            ],
            "text/plain": [
              "                         math score  reading score  writing score\n",
              "test preparation course                                          \n",
              "completed                 69.695531      73.893855      74.418994\n",
              "none                      64.077882      66.534268      64.504673"
            ]
          },
          "metadata": {},
          "execution_count": 34
        }
      ]
    },
    {
      "cell_type": "code",
      "metadata": {
        "colab": {
          "base_uri": "https://localhost:8080/"
        },
        "id": "WDzHvn9gYGLe",
        "outputId": "a9fd711e-0230-47be-c965-f7dbf565030d"
      },
      "source": [
        "ttest_ind(students[students[\"test preparation course\"] == \"completed\"][[\"math score\", \"reading score\", \"writing score\"]],\n",
        "          students[students[\"test preparation course\"] == \"none\"][[\"math score\", \"reading score\", \"writing score\"]])"
      ],
      "execution_count": null,
      "outputs": [
        {
          "output_type": "execute_result",
          "data": {
            "text/plain": [
              "Ttest_indResult(statistic=array([ 5.70461642,  7.87166354, 10.40917344]), pvalue=array([1.53591346e-08, 9.08178334e-15, 3.68529174e-24]))"
            ]
          },
          "metadata": {},
          "execution_count": 36
        }
      ]
    },
    {
      "cell_type": "markdown",
      "metadata": {
        "id": "YEFxESSfYLzi"
      },
      "source": [
        "Yes, p values are incredibly small. We can say there is significant evidence those who complete the course are more successful."
      ]
    },
    {
      "cell_type": "code",
      "metadata": {
        "colab": {
          "base_uri": "https://localhost:8080/",
          "height": 142
        },
        "id": "KlFgsAK5YJlV",
        "outputId": "2abb965f-267b-4678-a58f-75be86ce0d62"
      },
      "source": [
        "students[[\"math score\", \"reading score\", \"writing score\"]].corr()"
      ],
      "execution_count": null,
      "outputs": [
        {
          "output_type": "execute_result",
          "data": {
            "text/html": [
              "<div>\n",
              "<style scoped>\n",
              "    .dataframe tbody tr th:only-of-type {\n",
              "        vertical-align: middle;\n",
              "    }\n",
              "\n",
              "    .dataframe tbody tr th {\n",
              "        vertical-align: top;\n",
              "    }\n",
              "\n",
              "    .dataframe thead th {\n",
              "        text-align: right;\n",
              "    }\n",
              "</style>\n",
              "<table border=\"1\" class=\"dataframe\">\n",
              "  <thead>\n",
              "    <tr style=\"text-align: right;\">\n",
              "      <th></th>\n",
              "      <th>math score</th>\n",
              "      <th>reading score</th>\n",
              "      <th>writing score</th>\n",
              "    </tr>\n",
              "  </thead>\n",
              "  <tbody>\n",
              "    <tr>\n",
              "      <th>math score</th>\n",
              "      <td>1.000000</td>\n",
              "      <td>0.817580</td>\n",
              "      <td>0.802642</td>\n",
              "    </tr>\n",
              "    <tr>\n",
              "      <th>reading score</th>\n",
              "      <td>0.817580</td>\n",
              "      <td>1.000000</td>\n",
              "      <td>0.954598</td>\n",
              "    </tr>\n",
              "    <tr>\n",
              "      <th>writing score</th>\n",
              "      <td>0.802642</td>\n",
              "      <td>0.954598</td>\n",
              "      <td>1.000000</td>\n",
              "    </tr>\n",
              "  </tbody>\n",
              "</table>\n",
              "</div>"
            ],
            "text/plain": [
              "               math score  reading score  writing score\n",
              "math score       1.000000       0.817580       0.802642\n",
              "reading score    0.817580       1.000000       0.954598\n",
              "writing score    0.802642       0.954598       1.000000"
            ]
          },
          "metadata": {},
          "execution_count": 37
        }
      ]
    },
    {
      "cell_type": "markdown",
      "metadata": {
        "id": "7sr6vPwzYhzz"
      },
      "source": [
        "Reading and writing have a correlation of 0.954598, being the highest among all score correlations. "
      ]
    },
    {
      "cell_type": "code",
      "metadata": {
        "id": "Pmo-PoBXYdjC"
      },
      "source": [
        ""
      ],
      "execution_count": null,
      "outputs": []
    }
  ]
}