{
 "cells": [
  {
   "cell_type": "markdown",
   "id": "3598c2e2-410a-43f7-aac6-20dd4fc0ea16",
   "metadata": {},
   "source": [
    "The Dataset used for this project can be found at: \n",
    "\n",
    "https://www.kaggle.com/alexteboul/heart-disease-health-indicators-dataset"
   ]
  },
  {
   "cell_type": "markdown",
   "id": "e93acd11-f1e5-4aa9-9937-d232afa6245e",
   "metadata": {},
   "source": [
    "In this project I will be using the above dataset to train a model to predict if someone is at risk for heart disease. \n",
    "\n",
    "Additionally, I will be looking into some other aspects of the dataset. Namely, do we observe a difference between men and women for the risk of heart disease?\n",
    "\n",
    "Is there a difference in risk between type 1 and type 2 diabetics, or are both equal? \n",
    "\n",
    "What is the largest risk factor in having heart disease? \n",
    "\n",
    "Do males and females have a different highest risk factor?\n",
    "\n",
    "Which variable is least impactful in heart disease?\n",
    "\n",
    "Regardless of how accurate our model is, what kind of accuracy do we have? Is it better or worse than just saying nobody is at risk."
   ]
  },
  {
   "cell_type": "markdown",
   "id": "d05d1dcf-612e-43b4-93b9-af9350922b9b",
   "metadata": {},
   "source": [
    "First let's load the modules we will need and examine the data."
   ]
  },
  {
   "cell_type": "code",
   "execution_count": 2,
   "id": "44295faa-b608-4929-83e9-60b1e5aa343b",
   "metadata": {},
   "outputs": [],
   "source": [
    "import numpy as np\n",
    "import pandas as pd\n",
    "import scipy\n",
    "import matplotlib.pyplot as plt\n",
    "import seaborn as sns\n",
    "from sklearn.preprocessing import StandardScaler\n",
    "from sklearn.decomposition import PCA\n",
    "from sklearn.linear_model import LinearRegression\n",
    "from sklearn.model_selection import train_test_split\n",
    "from sklearn.metrics import mean_absolute_error\n",
    "import statsmodels.api as sm\n",
    "from statsmodels.tools.eval_measures import mse, rmse\n",
    "from sqlalchemy import create_engine\n",
    "from sklearn.metrics import confusion_matrix, precision_score, recall_score\n",
    "from sklearn import ensemble\n",
    "%matplotlib inline\n",
    "from sklearn import tree\n",
    "import pydotplus\n",
    "import graphviz\n",
    "from IPython.display import Image\n",
    "import scipy.stats as stats\n",
    "from sklearn.ensemble import GradientBoostingClassifier\n",
    "from sklearn.svm import SVR"
   ]
  },
  {
   "cell_type": "markdown",
   "id": "e5a827dd-1c5f-4b82-b25d-339817e6a248",
   "metadata": {},
   "source": [
    "#### Start by fetching, examining and cleaning the data to ensure the entries exist (no nulls) and are proper (not filled with zeros or symbols to represent nulls)"
   ]
  },
  {
   "cell_type": "code",
   "execution_count": 3,
   "id": "1349c16e-79fe-461e-877a-1b5e504826f3",
   "metadata": {},
   "outputs": [],
   "source": [
    "# fetch data\n",
    "raw_data = pd.read_csv('https://raw.githubusercontent.com/christianloring/Projects/main/project_dataset.csv')"
   ]
  },
  {
   "cell_type": "code",
   "execution_count": 4,
   "id": "5ae27179-a5a7-4081-b9a0-ea6e8cde9c23",
   "metadata": {},
   "outputs": [
    {
     "data": {
      "text/html": [
       "<div>\n",
       "<style scoped>\n",
       "    .dataframe tbody tr th:only-of-type {\n",
       "        vertical-align: middle;\n",
       "    }\n",
       "\n",
       "    .dataframe tbody tr th {\n",
       "        vertical-align: top;\n",
       "    }\n",
       "\n",
       "    .dataframe thead th {\n",
       "        text-align: right;\n",
       "    }\n",
       "</style>\n",
       "<table border=\"1\" class=\"dataframe\">\n",
       "  <thead>\n",
       "    <tr style=\"text-align: right;\">\n",
       "      <th></th>\n",
       "      <th>HeartDiseaseorAttack</th>\n",
       "      <th>HighBP</th>\n",
       "      <th>HighChol</th>\n",
       "      <th>CholCheck</th>\n",
       "      <th>BMI</th>\n",
       "      <th>Smoker</th>\n",
       "      <th>Stroke</th>\n",
       "      <th>Diabetes</th>\n",
       "      <th>PhysActivity</th>\n",
       "      <th>Fruits</th>\n",
       "      <th>...</th>\n",
       "      <th>AnyHealthcare</th>\n",
       "      <th>NoDocbcCost</th>\n",
       "      <th>GenHlth</th>\n",
       "      <th>MentHlth</th>\n",
       "      <th>PhysHlth</th>\n",
       "      <th>DiffWalk</th>\n",
       "      <th>Sex</th>\n",
       "      <th>Age</th>\n",
       "      <th>Education</th>\n",
       "      <th>Income</th>\n",
       "    </tr>\n",
       "  </thead>\n",
       "  <tbody>\n",
       "    <tr>\n",
       "      <th>0</th>\n",
       "      <td>0.0</td>\n",
       "      <td>1.0</td>\n",
       "      <td>1.0</td>\n",
       "      <td>1.0</td>\n",
       "      <td>40.0</td>\n",
       "      <td>1.0</td>\n",
       "      <td>0.0</td>\n",
       "      <td>0.0</td>\n",
       "      <td>0.0</td>\n",
       "      <td>0.0</td>\n",
       "      <td>...</td>\n",
       "      <td>1.0</td>\n",
       "      <td>0.0</td>\n",
       "      <td>5.0</td>\n",
       "      <td>18.0</td>\n",
       "      <td>15.0</td>\n",
       "      <td>1.0</td>\n",
       "      <td>0.0</td>\n",
       "      <td>9.0</td>\n",
       "      <td>4.0</td>\n",
       "      <td>3.0</td>\n",
       "    </tr>\n",
       "    <tr>\n",
       "      <th>1</th>\n",
       "      <td>0.0</td>\n",
       "      <td>0.0</td>\n",
       "      <td>0.0</td>\n",
       "      <td>0.0</td>\n",
       "      <td>25.0</td>\n",
       "      <td>1.0</td>\n",
       "      <td>0.0</td>\n",
       "      <td>0.0</td>\n",
       "      <td>1.0</td>\n",
       "      <td>0.0</td>\n",
       "      <td>...</td>\n",
       "      <td>0.0</td>\n",
       "      <td>1.0</td>\n",
       "      <td>3.0</td>\n",
       "      <td>0.0</td>\n",
       "      <td>0.0</td>\n",
       "      <td>0.0</td>\n",
       "      <td>0.0</td>\n",
       "      <td>7.0</td>\n",
       "      <td>6.0</td>\n",
       "      <td>1.0</td>\n",
       "    </tr>\n",
       "    <tr>\n",
       "      <th>2</th>\n",
       "      <td>0.0</td>\n",
       "      <td>1.0</td>\n",
       "      <td>1.0</td>\n",
       "      <td>1.0</td>\n",
       "      <td>28.0</td>\n",
       "      <td>0.0</td>\n",
       "      <td>0.0</td>\n",
       "      <td>0.0</td>\n",
       "      <td>0.0</td>\n",
       "      <td>1.0</td>\n",
       "      <td>...</td>\n",
       "      <td>1.0</td>\n",
       "      <td>1.0</td>\n",
       "      <td>5.0</td>\n",
       "      <td>30.0</td>\n",
       "      <td>30.0</td>\n",
       "      <td>1.0</td>\n",
       "      <td>0.0</td>\n",
       "      <td>9.0</td>\n",
       "      <td>4.0</td>\n",
       "      <td>8.0</td>\n",
       "    </tr>\n",
       "    <tr>\n",
       "      <th>3</th>\n",
       "      <td>0.0</td>\n",
       "      <td>1.0</td>\n",
       "      <td>0.0</td>\n",
       "      <td>1.0</td>\n",
       "      <td>27.0</td>\n",
       "      <td>0.0</td>\n",
       "      <td>0.0</td>\n",
       "      <td>0.0</td>\n",
       "      <td>1.0</td>\n",
       "      <td>1.0</td>\n",
       "      <td>...</td>\n",
       "      <td>1.0</td>\n",
       "      <td>0.0</td>\n",
       "      <td>2.0</td>\n",
       "      <td>0.0</td>\n",
       "      <td>0.0</td>\n",
       "      <td>0.0</td>\n",
       "      <td>0.0</td>\n",
       "      <td>11.0</td>\n",
       "      <td>3.0</td>\n",
       "      <td>6.0</td>\n",
       "    </tr>\n",
       "    <tr>\n",
       "      <th>4</th>\n",
       "      <td>0.0</td>\n",
       "      <td>1.0</td>\n",
       "      <td>1.0</td>\n",
       "      <td>1.0</td>\n",
       "      <td>24.0</td>\n",
       "      <td>0.0</td>\n",
       "      <td>0.0</td>\n",
       "      <td>0.0</td>\n",
       "      <td>1.0</td>\n",
       "      <td>1.0</td>\n",
       "      <td>...</td>\n",
       "      <td>1.0</td>\n",
       "      <td>0.0</td>\n",
       "      <td>2.0</td>\n",
       "      <td>3.0</td>\n",
       "      <td>0.0</td>\n",
       "      <td>0.0</td>\n",
       "      <td>0.0</td>\n",
       "      <td>11.0</td>\n",
       "      <td>5.0</td>\n",
       "      <td>4.0</td>\n",
       "    </tr>\n",
       "  </tbody>\n",
       "</table>\n",
       "<p>5 rows × 22 columns</p>\n",
       "</div>"
      ],
      "text/plain": [
       "   HeartDiseaseorAttack  HighBP  HighChol  CholCheck   BMI  Smoker  Stroke  \\\n",
       "0                   0.0     1.0       1.0        1.0  40.0     1.0     0.0   \n",
       "1                   0.0     0.0       0.0        0.0  25.0     1.0     0.0   \n",
       "2                   0.0     1.0       1.0        1.0  28.0     0.0     0.0   \n",
       "3                   0.0     1.0       0.0        1.0  27.0     0.0     0.0   \n",
       "4                   0.0     1.0       1.0        1.0  24.0     0.0     0.0   \n",
       "\n",
       "   Diabetes  PhysActivity  Fruits  ...  AnyHealthcare  NoDocbcCost  GenHlth  \\\n",
       "0       0.0           0.0     0.0  ...            1.0          0.0      5.0   \n",
       "1       0.0           1.0     0.0  ...            0.0          1.0      3.0   \n",
       "2       0.0           0.0     1.0  ...            1.0          1.0      5.0   \n",
       "3       0.0           1.0     1.0  ...            1.0          0.0      2.0   \n",
       "4       0.0           1.0     1.0  ...            1.0          0.0      2.0   \n",
       "\n",
       "   MentHlth  PhysHlth  DiffWalk  Sex   Age  Education  Income  \n",
       "0      18.0      15.0       1.0  0.0   9.0        4.0     3.0  \n",
       "1       0.0       0.0       0.0  0.0   7.0        6.0     1.0  \n",
       "2      30.0      30.0       1.0  0.0   9.0        4.0     8.0  \n",
       "3       0.0       0.0       0.0  0.0  11.0        3.0     6.0  \n",
       "4       3.0       0.0       0.0  0.0  11.0        5.0     4.0  \n",
       "\n",
       "[5 rows x 22 columns]"
      ]
     },
     "execution_count": 4,
     "metadata": {},
     "output_type": "execute_result"
    }
   ],
   "source": [
    "# check to make sure it has been retreived properly\n",
    "raw_data.head()"
   ]
  },
  {
   "cell_type": "code",
   "execution_count": 5,
   "id": "53d55d8e-74f5-413e-ba59-39e8095526e9",
   "metadata": {},
   "outputs": [
    {
     "name": "stdout",
     "output_type": "stream",
     "text": [
      "<class 'pandas.core.frame.DataFrame'>\n",
      "RangeIndex: 253680 entries, 0 to 253679\n",
      "Data columns (total 22 columns):\n",
      " #   Column                Non-Null Count   Dtype  \n",
      "---  ------                --------------   -----  \n",
      " 0   HeartDiseaseorAttack  253680 non-null  float64\n",
      " 1   HighBP                253680 non-null  float64\n",
      " 2   HighChol              253680 non-null  float64\n",
      " 3   CholCheck             253680 non-null  float64\n",
      " 4   BMI                   253680 non-null  float64\n",
      " 5   Smoker                253680 non-null  float64\n",
      " 6   Stroke                253680 non-null  float64\n",
      " 7   Diabetes              253680 non-null  float64\n",
      " 8   PhysActivity          253680 non-null  float64\n",
      " 9   Fruits                253680 non-null  float64\n",
      " 10  Veggies               253680 non-null  float64\n",
      " 11  HvyAlcoholConsump     253680 non-null  float64\n",
      " 12  AnyHealthcare         253680 non-null  float64\n",
      " 13  NoDocbcCost           253680 non-null  float64\n",
      " 14  GenHlth               253680 non-null  float64\n",
      " 15  MentHlth              253680 non-null  float64\n",
      " 16  PhysHlth              253680 non-null  float64\n",
      " 17  DiffWalk              253680 non-null  float64\n",
      " 18  Sex                   253680 non-null  float64\n",
      " 19  Age                   253680 non-null  float64\n",
      " 20  Education             253680 non-null  float64\n",
      " 21  Income                253680 non-null  float64\n",
      "dtypes: float64(22)\n",
      "memory usage: 42.6 MB\n"
     ]
    }
   ],
   "source": [
    "# Examine the data more closely, here we will check for nulls and improper entries\n",
    "raw_data.info()"
   ]
  },
  {
   "cell_type": "code",
   "execution_count": 6,
   "id": "759b430c-95c0-4c0e-9a9e-b4b35d15b36c",
   "metadata": {},
   "outputs": [
    {
     "data": {
      "text/plain": [
       "[['HeartDiseaseorAttack', 229787],\n",
       " ['HighBP', 144851],\n",
       " ['HighChol', 146089],\n",
       " ['CholCheck', 9470],\n",
       " ['BMI', 0],\n",
       " ['Smoker', 141257],\n",
       " ['Stroke', 243388],\n",
       " ['Diabetes', 213703],\n",
       " ['PhysActivity', 61760],\n",
       " ['Fruits', 92782],\n",
       " ['Veggies', 47839],\n",
       " ['HvyAlcoholConsump', 239424],\n",
       " ['AnyHealthcare', 12417],\n",
       " ['NoDocbcCost', 232326],\n",
       " ['GenHlth', 0],\n",
       " ['MentHlth', 175680],\n",
       " ['PhysHlth', 160052],\n",
       " ['DiffWalk', 211005],\n",
       " ['Sex', 141974],\n",
       " ['Age', 0],\n",
       " ['Education', 0],\n",
       " ['Income', 0]]"
      ]
     },
     "execution_count": 6,
     "metadata": {},
     "output_type": "execute_result"
    }
   ],
   "source": [
    "# no nulls, all entries have a value. now we check for if there are zeros and if the zeros make sense, since some datasets will use 0 to represent nulls\n",
    "columns = raw_data.columns\n",
    "cols = []\n",
    "count = []\n",
    "for column in columns:\n",
    "  count_col = (raw_data[column] == 0).sum()\n",
    "  count.append([column, count_col])\n",
    "  if column != 'HeartDiseaseorAttack':\n",
    "    cols.append(column)\n",
    "count"
   ]
  },
  {
   "cell_type": "markdown",
   "id": "fa7e2993-e352-42a8-a6bc-6365fe95c108",
   "metadata": {},
   "source": [
    "Check if the zeros make sense. The follow variables are binary: \n",
    "\n",
    "HeartDiseaseorAttack, HighBP, HighChol, CholCheck, Smoker, Stroke, Diabetes, HvyAlcoholConsump, NoDocbcCost, Sex, Fruits, Veggies\n",
    "\n",
    "The following have zeros in their scale naturally:\n",
    "\n",
    "PhysActivity, MentHlth, DiffWalk, PhysHlth\n",
    "\n",
    "Observing where the number of zeros is largest, we see it is for values that represent some sort of issue the average person will not experience, thus they make sense being high and do not represent null values.\n",
    "For the non-health issue related ones, we observe a moderate amount of zeros, which makes sense considering most people do not live a perfectly healthy lifestyle.\n",
    "We can conclude that the zeroes in this set should not be null values nor values that are filled as zero from missing."
   ]
  },
  {
   "cell_type": "markdown",
   "id": "416a9738-c53f-4ba7-b951-55c47e07f719",
   "metadata": {},
   "source": [
    "#### Predicting if a person is at risk of heart disease"
   ]
  },
  {
   "cell_type": "code",
   "execution_count": 7,
   "id": "79d2760a-c920-4a98-a1dd-7a0f5649d5ce",
   "metadata": {},
   "outputs": [],
   "source": [
    "# The first question I look at is the ML question of trying to train a model to predict if a person is at risk of heart disease.\n",
    "\n",
    "# let's look at the variables using the first method learned, OLS regression.\n",
    "# set target variable and explanatory variables\n",
    "\n",
    "\n",
    "Y = raw_data['HeartDiseaseorAttack']\n",
    "X = raw_data[cols]\n",
    "X_train, X_test, y_train, y_test = train_test_split(X, Y, test_size = 0.2, random_state = 465)"
   ]
  },
  {
   "cell_type": "code",
   "execution_count": 8,
   "id": "d6b60e72-a052-4044-b086-865a784991bd",
   "metadata": {},
   "outputs": [
    {
     "name": "stdout",
     "output_type": "stream",
     "text": [
      "                                  OLS Regression Results                                 \n",
      "=========================================================================================\n",
      "Dep. Variable:     HeartDiseaseorAttack   R-squared (uncentered):                   0.228\n",
      "Model:                              OLS   Adj. R-squared (uncentered):              0.228\n",
      "Method:                   Least Squares   F-statistic:                              2849.\n",
      "Date:                  Thu, 03 Feb 2022   Prob (F-statistic):                        0.00\n",
      "Time:                          12:04:02   Log-Likelihood:                         -22275.\n",
      "No. Observations:                202944   AIC:                                  4.459e+04\n",
      "Df Residuals:                    202923   BIC:                                  4.481e+04\n",
      "Df Model:                            21                                                  \n",
      "Covariance Type:              nonrobust                                                  \n",
      "=====================================================================================\n",
      "                        coef    std err          t      P>|t|      [0.025      0.975]\n",
      "-------------------------------------------------------------------------------------\n",
      "HighBP                0.0362      0.001     25.973      0.000       0.033       0.039\n",
      "HighChol              0.0400      0.001     30.394      0.000       0.037       0.043\n",
      "CholCheck            -0.0135      0.003     -4.587      0.000      -0.019      -0.008\n",
      "BMI                  -0.0022   8.83e-05    -25.374      0.000      -0.002      -0.002\n",
      "Smoker                0.0200      0.001     15.986      0.000       0.018       0.022\n",
      "Stroke                0.1830      0.003     58.490      0.000       0.177       0.189\n",
      "Diabetes              0.0269      0.001     28.695      0.000       0.025       0.029\n",
      "PhysActivity         -0.0021      0.001     -1.432      0.152      -0.005       0.001\n",
      "Fruits                0.0019      0.001      1.461      0.144      -0.001       0.004\n",
      "Veggies              -0.0004      0.002     -0.241      0.810      -0.004       0.003\n",
      "HvyAlcoholConsump    -0.0204      0.003     -7.748      0.000      -0.026      -0.015\n",
      "AnyHealthcare        -0.0104      0.003     -3.714      0.000      -0.016      -0.005\n",
      "NoDocbcCost          -0.0020      0.002     -0.861      0.389      -0.006       0.003\n",
      "GenHlth               0.0287      0.001     39.826      0.000       0.027       0.030\n",
      "MentHlth             -0.0003      9e-05     -2.814      0.005      -0.000   -7.69e-05\n",
      "PhysHlth              0.0011   8.75e-05     12.288      0.000       0.001       0.001\n",
      "DiffWalk              0.0501      0.002     25.299      0.000       0.046       0.054\n",
      "Sex                   0.0510      0.001     40.994      0.000       0.049       0.053\n",
      "Age                   0.0098      0.000     44.627      0.000       0.009       0.010\n",
      "Education            -0.0061      0.001     -9.660      0.000      -0.007      -0.005\n",
      "Income               -0.0045      0.000    -12.639      0.000      -0.005      -0.004\n",
      "==============================================================================\n",
      "Omnibus:                    86119.164   Durbin-Watson:                   2.001\n",
      "Prob(Omnibus):                  0.000   Jarque-Bera (JB):           324511.535\n",
      "Skew:                           2.188   Prob(JB):                         0.00\n",
      "Kurtosis:                       7.384   Cond. No.                         171.\n",
      "==============================================================================\n",
      "\n",
      "Notes:\n",
      "[1] R² is computed without centering (uncentered) since the model does not contain a constant.\n",
      "[2] Standard Errors assume that the covariance matrix of the errors is correctly specified.\n"
     ]
    }
   ],
   "source": [
    "results = sm.OLS(y_train, X_train).fit()\n",
    "# Inspect the results\n",
    "print(results.summary())"
   ]
  },
  {
   "cell_type": "code",
   "execution_count": 9,
   "id": "ff8f5f19-2a28-42e0-91b3-12157f395483",
   "metadata": {},
   "outputs": [
    {
     "name": "stdout",
     "output_type": "stream",
     "text": [
      "Fitting 5 folds for each of 54 candidates, totalling 270 fits\n"
     ]
    },
    {
     "data": {
      "text/plain": [
       "0.9068363683287297"
      ]
     },
     "execution_count": 9,
     "metadata": {},
     "output_type": "execute_result"
    }
   ],
   "source": [
    "# As expected, the first method is rather rough and has a low R sq value\n",
    "# Now we apply some of the other techniques we learned to get more accurate results.\n",
    "# First we try with a decision tree, then random forest, next gradient boosting, and finally svm \n",
    "# We will use gridsearch to ensure that we are getting an optimized result from each technique.\n",
    "# This ensures we do not either get lucky or unlucky when picking parameters, but are truly\n",
    "# choosing the best method. \n",
    "\n",
    "from sklearn.model_selection import GridSearchCV\n",
    "decision_tree = tree.DecisionTreeClassifier()\n",
    "param_dict_tree = {\n",
    "    \"criterion\":['gini', 'entropy'],\n",
    "    \"max_depth\":[2,3,4],\n",
    "    \"min_samples_split\":[2,3,4],\n",
    "    \"min_samples_leaf\":[2,3,4]\n",
    "}\n",
    "grid = GridSearchCV(decision_tree,\n",
    "                    param_dict_tree,\n",
    "                    cv=5,\n",
    "                    verbose=1,\n",
    "                    n_jobs=-1)\n",
    "\n",
    "grid.fit(X_train, y_train)\n",
    "grid.best_score_"
   ]
  },
  {
   "cell_type": "code",
   "execution_count": 10,
   "id": "2a364e5c-f544-4d9c-9081-df6bd87f2185",
   "metadata": {},
   "outputs": [
    {
     "name": "stdout",
     "output_type": "stream",
     "text": [
      "Fitting 5 folds for each of 24 candidates, totalling 120 fits\n"
     ]
    },
    {
     "data": {
      "text/plain": [
       "GridSearchCV(cv=5, estimator=RandomForestClassifier(), n_jobs=-1,\n",
       "             param_grid={'criterion': ['gini', 'entropy'],\n",
       "                         'max_depth': range(1, 4),\n",
       "                         'min_samples_leaf': range(2, 4),\n",
       "                         'min_samples_split': range(2, 4)},\n",
       "             verbose=1)"
      ]
     },
     "execution_count": 10,
     "metadata": {},
     "output_type": "execute_result"
    }
   ],
   "source": [
    "from sklearn import ensemble\n",
    "from sklearn.model_selection import cross_val_score\n",
    "\n",
    "rfc = ensemble.RandomForestClassifier()\n",
    "param_dict_rfc = {\n",
    "    \"criterion\":['gini', 'entropy'],\n",
    "    \"max_depth\":range(1,4),\n",
    "    \"min_samples_split\":range(2,4),\n",
    "    \"min_samples_leaf\":range(2,4)\n",
    "}\n",
    "grid_rfc = GridSearchCV(rfc,\n",
    "                    param_dict_rfc,\n",
    "                    cv=5,\n",
    "                    verbose=1,\n",
    "                    n_jobs=-1)\n",
    "\n",
    "grid_rfc.fit(X_train, y_train)"
   ]
  },
  {
   "cell_type": "code",
   "execution_count": 11,
   "id": "26603b62-f05b-496f-be4c-d525776d17cb",
   "metadata": {},
   "outputs": [
    {
     "data": {
      "text/plain": [
       "0.90557986443548"
      ]
     },
     "execution_count": 11,
     "metadata": {},
     "output_type": "execute_result"
    }
   ],
   "source": [
    "grid_rfc.best_score_"
   ]
  },
  {
   "cell_type": "code",
   "execution_count": 13,
   "id": "155e9f8a-a321-485b-aa7d-99a81b23bba4",
   "metadata": {},
   "outputs": [
    {
     "name": "stdout",
     "output_type": "stream",
     "text": [
      "0.9086841690318511 0.5509355509355509 0.11202705559078419\n"
     ]
    }
   ],
   "source": [
    "gbc = ensemble.GradientBoostingClassifier(learning_rate = 0.2, min_samples_split=6, max_depth=3)\n",
    "gbc.fit(X_train, y_train)\n",
    "\n",
    "#boosting models\n",
    "\n",
    "#accuracy\n",
    "gbc.score(X_test, y_test)\n",
    "#precision\n",
    "y_pred = gbc.predict(X_test)\n",
    "precision_score(y_test,y_pred)\n",
    "# Recall\n",
    "recall_score(y_test,y_pred)\n",
    "\n",
    "print(gbc.score(X_test, y_test), precision_score(y_test,y_pred), recall_score(y_test,y_pred))"
   ]
  },
  {
   "cell_type": "markdown",
   "id": "11fdf153-9af1-42d2-9fd6-9c95a73cdde8",
   "metadata": {},
   "source": [
    "Unfortunately, I cannot run gradient boosting classifier with gridsearch as it is too computationally intensive. \n",
    "\n",
    "gbc = ensemble.GradientBoostingClassifier()\n",
    "param_dict_gbc = {\n",
    "    \"loss\":('deviance', 'exponential'),\n",
    "    \"learning_rate\":range(1,4),\n",
    "    \"criterion\":('friedman_mse', 'squared_error', 'mse', 'mae'),\n",
    "    \"min_samples_split\":range(2,4),\n",
    "    \"min_samples_leaf\":range(2,4),\n",
    "    \"max_depth\":range(1,2)\n",
    "\n",
    "}\n",
    "grid_gbc = GridSearchCV(gbc,\n",
    "                    param_dict_gbc,\n",
    "                    cv=5,\n",
    "                    verbose=1,\n",
    "                    n_jobs=-1)\n",
    "\n",
    "grid_gbc.fit(X_train, y_train)\n",
    "grid_gbc.best_score_\n",
    "\n",
    "\n",
    "SVM is similar, when run it takes over an hour even before applying the gridsearch which would multiple the amount of time it takes by likely over a factor of thirty. \n",
    "If I am able to use a more powerful system, the following can be ran to observe that SVM both takes a very long time and (at least in this case) does not produce results\n",
    "that are worth the cost.\n",
    "for a single instance:\n",
    "SVM\n",
    "from sklearn.svm import SVR\n",
    "svr = SVR()\n",
    "\n",
    "Y = raw_data['HeartDiseaseorAttack'].sample(frac=0.3, replace=True, random_state=1)\n",
    "X = raw_data[cols].sample(frac=0.3, replace=True, random_state=1)\n",
    "svr.fit(X,Y)\n",
    "\n",
    "to test using gridsearch:\n",
    "svr = SVR()\n",
    "svr_dict = {\n",
    "    \"kernel\":('linear', 'poly', 'rbf', 'sigmoid', 'precomputed'),\n",
    "    'degree': (2,3),\n",
    "    'gamme':('scale', 'auto'),\n",
    "    'epsilon':(0.1,0.2,0.3)\n",
    "}\n",
    "\n",
    "grid_svr = GridSearchCV(svr, \n",
    "                        svr_dict, \n",
    "                        cv=5, \n",
    "                        verbose=1, \n",
    "                        n_jobs=-1)\n",
    "\n",
    "grid_svr.fit(X_train, y_train)\n",
    "grid_svr.best_score"
   ]
  },
  {
   "cell_type": "markdown",
   "id": "aaaa101b-90ac-4e8a-95cd-9d73fb4fdf97",
   "metadata": {},
   "source": [
    "Since we tuned the parameters to be optimized where possible, we can say that we can achieve a best rate of .9086 using GradientBoostingClassifiers. \n",
    "This is genuinely surprising because I was not able to optimize that method due to the intense resources it takes; however, what this tells us\n",
    "is that the model will only get better if we can apply gridsearch to optimize it.\n",
    "\n",
    "\n",
    "\n",
    "Now we can begin investigating some of the other questions we have from the dataset."
   ]
  },
  {
   "cell_type": "markdown",
   "id": "89425d6f-fdde-4a6d-8b9c-a88e579f2264",
   "metadata": {},
   "source": [
    "#### Is there a difference between males and females in terms of risk of heart disease?"
   ]
  },
  {
   "cell_type": "code",
   "execution_count": 14,
   "id": "b2de07a8-b7ba-4cb1-8f9f-cd57e54c83af",
   "metadata": {},
   "outputs": [
    {
     "data": {
      "text/plain": [
       "MannwhitneyuResult(statistic=7527983631.0, pvalue=0.0)"
      ]
     },
     "execution_count": 14,
     "metadata": {},
     "output_type": "execute_result"
    }
   ],
   "source": [
    "#This data is not continuous, so we will use a non-parametric test,\n",
    "#specifically the man whitney u test\n",
    "male = raw_data[raw_data['Sex'] == 0]\n",
    "female = raw_data[raw_data['Sex'] == 1]\n",
    "stats.mannwhitneyu(male['HeartDiseaseorAttack'], female['HeartDiseaseorAttack'])"
   ]
  },
  {
   "cell_type": "markdown",
   "id": "19bb0a68-21a7-4ae8-ba3f-bdcd168de94d",
   "metadata": {},
   "source": [
    "#### Who between type 1 and type 2 diabetics are more at risk?"
   ]
  },
  {
   "cell_type": "code",
   "execution_count": 15,
   "id": "05ba4735-72c7-43db-8d20-4f513ce75a7c",
   "metadata": {},
   "outputs": [
    {
     "data": {
      "text/plain": [
       "KruskalResult(statistic=154.02258174686844, pvalue=2.289780626831842e-35)"
      ]
     },
     "execution_count": 15,
     "metadata": {},
     "output_type": "execute_result"
    }
   ],
   "source": [
    "# First we should see if there is a difference (Are either more at risk?) or if both are equal. \n",
    "# Once again we have noncontinuous data. This time it isn't binary, but we are still just comparing between 2 values,\n",
    "# as we are not looking at people w/o diabetes. I'll use the kruskal test to answer this question.\n",
    "type_1 = raw_data[raw_data['Diabetes']==1]\n",
    "type_2 = raw_data[raw_data['Diabetes']==2]\n",
    "\n",
    "stats.kruskal(type_1['HeartDiseaseorAttack'], type_2['HeartDiseaseorAttack'])"
   ]
  },
  {
   "cell_type": "markdown",
   "id": "b72f5a16-17ef-44cc-b361-7f1a7b9bac58",
   "metadata": {},
   "source": [
    "#### What are the two most important factors in determining risk of heart disease?\n",
    "\n",
    "#### What is the least influential factor within the list?"
   ]
  },
  {
   "cell_type": "code",
   "execution_count": 18,
   "id": "aa7bdd4f-5997-4eea-9c4e-6965a9630ef2",
   "metadata": {},
   "outputs": [
    {
     "data": {
      "image/png": "[encoded data removed]",
      "text/plain": [
       "<Figure size 432x288 with 1 Axes>"
      ]
     },
     "metadata": {
      "needs_background": "light"
     },
     "output_type": "display_data"
    }
   ],
   "source": [
    "feature_importance = gbc.feature_importances_\n",
    "\n",
    "# Make importances relative to max importance.\n",
    "feature_importance = 100.0 * (feature_importance / feature_importance.max())\n",
    "sorted_idx = np.argsort(feature_importance)\n",
    "pos = np.arange(sorted_idx.shape[0]) +1\n",
    "plt.subplot(1, 2, 2)\n",
    "plt.barh(pos, feature_importance[sorted_idx], align='center')\n",
    "plt.yticks(pos, )\n",
    "plt.xlabel('Relative Importance')\n",
    "plt.title('Variable Importance')\n",
    "plt.show()"
   ]
  },
  {
   "cell_type": "code",
   "execution_count": 19,
   "id": "70256a63-5015-45c2-8288-0da1e7de502a",
   "metadata": {},
   "outputs": [
    {
     "name": "stdout",
     "output_type": "stream",
     "text": [
      "The two most influential factors are AnyHealthcare and PhysActivity\n",
      "The least influential factors is GenHlth.\n"
     ]
    }
   ],
   "source": [
    "print(\"The two most influential factors are \" + X_train.columns[sorted_idx[0]],\"and\", X_train.columns[sorted_idx[1]])\n",
    "print(\"The least influential factors is \" + X_train.columns[sorted_idx[-1]]+\".\")"
   ]
  },
  {
   "cell_type": "markdown",
   "id": "8e66527d-298a-4f9b-9a47-aca5866b8bd5",
   "metadata": {},
   "source": [
    "#### How good or bad is the model? Is it better than saying nobody is at risk?"
   ]
  },
  {
   "cell_type": "code",
   "execution_count": 20,
   "id": "c6b5525f-5338-4e76-9361-265fffead8f4",
   "metadata": {},
   "outputs": [],
   "source": [
    "def plot_confusion_matrix(cm, classes,normalize,\n",
    "                          title='Confusion matrix',\n",
    "                          cmap=plt.cm.Blues):\n",
    "    \"\"\"\n",
    "    This function prints and plots the confusion matrix.\n",
    "    Normalization can be applied by setting `normalize=True`.\n",
    "    \"\"\"\n",
    "    if normalize:\n",
    "        cm = cm.astype('float') / cm.sum(axis=1)[:, np.newaxis]\n",
    "        print(\"Normalized confusion matrix\")\n",
    "    else:\n",
    "        print('Confusion matrix, without normalization')\n",
    "\n",
    "    plt.imshow(cm, interpolation='nearest', cmap=cmap)\n",
    "    plt.title(title)\n",
    "    plt.colorbar()\n",
    "    tick_marks = np.arange(len(classes))\n",
    "    plt.xticks(tick_marks, classes)\n",
    "    plt.yticks(tick_marks, classes)\n",
    "    fmt = '.2f' if normalize else 'd'\n",
    "    thresh = cm.max() / 2.\n",
    "    for i, j in itertools.product(range(cm.shape[0]), range(cm.shape[1])):\n",
    "        plt.text(j, i, format(cm[i, j], fmt),\n",
    "                 horizontalalignment=\"center\", verticalalignment=\"center\",\n",
    "                 color=\"white\" if cm[i, j] > thresh else \"black\")\n",
    "    plt.ylabel('True label')\n",
    "    plt.xlabel('Predicted label')"
   ]
  },
  {
   "cell_type": "code",
   "execution_count": 24,
   "id": "d7aaa575-5447-4f60-8b89-1ccc8c4f7b65",
   "metadata": {},
   "outputs": [
    {
     "name": "stdout",
     "output_type": "stream",
     "text": [
      "Confusion matrix, without normalization\n"
     ]
    },
    {
     "data": {
      "image/png": "[encoded data removed]",
      "text/plain": [
       "<Figure size 432x288 with 2 Axes>"
      ]
     },
     "metadata": {
      "needs_background": "light"
     },
     "output_type": "display_data"
    }
   ],
   "source": [
    "from sklearn.metrics import confusion_matrix, precision_score, recall_score\n",
    "from sklearn import ensemble\n",
    "import itertools\n",
    "predict_test = gbc.predict(X_test)\n",
    "cm = confusion_matrix(y_test, predict_test)\n",
    "plot_confusion_matrix(cm,[0,1],False)"
   ]
  },
  {
   "cell_type": "markdown",
   "id": "a180428f-691d-4ee8-8f36-de7acdd09133",
   "metadata": {},
   "source": [
    "This model is not very good. It is better than saying nobody is at risk, as that would be every value in the left hand column.\n",
    "\n",
    "It will tell roughly 10% of the people at risk that they are at risk, which is also better than nothing; however, in terms of actual application I would not use this model. \n",
    "\n",
    "Perhaps if I had access to more powerful computations, I could have refined the gbc and svm models and we would have "
   ]
  },
  {
   "cell_type": "code",
   "execution_count": null,
   "id": "3b1909d9-7caa-41c4-a1fc-841a194f224d",
   "metadata": {},
   "outputs": [],
   "source": []
  },
  {
   "cell_type": "code",
   "execution_count": null,
   "id": "fe80728c-ec94-4385-b471-3267578f688d",
   "metadata": {},
   "outputs": [],
   "source": []
  }
 ],
 "metadata": {
  "kernelspec": {
   "display_name": "Python 3",
   "language": "python",
   "name": "python3"
  },
  "language_info": {
   "codemirror_mode": {
    "name": "ipython",
    "version": 3
   },
   "file_extension": ".py",
   "mimetype": "text/x-python",
   "name": "python",
   "nbconvert_exporter": "python",
   "pygments_lexer": "ipython3",
   "version": "3.8.8"
  }
 },
 "nbformat": 4,
 "nbformat_minor": 5
}
